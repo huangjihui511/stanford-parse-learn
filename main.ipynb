{
  "nbformat": 4,
  "nbformat_minor": 0,
  "metadata": {
    "orig_nbformat": 2,
    "file_extension": ".py",
    "mimetype": "text/x-python",
    "name": "python",
    "npconvert_exporter": "python",
    "pygments_lexer": "ipython3",
    "version": 3,
    "colab": {
      "name": "main.ipynb",
      "provenance": [],
      "toc_visible": true,
      "include_colab_link": true
    },
    "kernelspec": {
      "name": "python3",
      "display_name": "Python 3"
    }
  },
  "cells": [
    {
      "cell_type": "markdown",
      "metadata": {
        "id": "view-in-github",
        "colab_type": "text"
      },
      "source": [
        "<a href=\"https://colab.research.google.com/github/huangjihui511/stanford-parse-learn/blob/master/main.ipynb\" target=\"_parent\"><img src=\"https://colab.research.google.com/assets/colab-badge.svg\" alt=\"Open In Colab\"/></a>"
      ]
    },
    {
      "cell_type": "code",
      "metadata": {
        "id": "RuF-lTSVzdgd",
        "colab_type": "code",
        "colab": {
          "base_uri": "https://localhost:8080/",
          "height": 581
        },
        "outputId": "e38f802c-529b-4282-ceab-4a784a6291dc"
      },
      "source": [
        "!pip install stanfordcorenlp\n",
        "import os\n",
        "\n",
        "!apt-get install openjdk-8-jdk-headless -qq > /dev/null\n",
        "\n",
        "os.environ[\"JAVA_HOME\"] = \"/usr/lib/jvm/java-8-openjdk-amd64\"\n",
        "!wget http://nlp.stanford.edu/software/stanford-corenlp-full-2018-10-05.zip\n",
        "\n",
        "!unzip stanford-corenlp-full-2018-10-05.zip\n",
        "!cd /content/stanford-corenlp-full-2018-10-05\n",
        "!java -mx4g -cp \"*\" edu.stanford.nlp.pipeline.StanfordCoreNLPServer -port 9001 -timeout 75000"
      ],
      "execution_count": 1,
      "outputs": [
        {
          "output_type": "stream",
          "text": [
            "Requirement already satisfied: stanfordcorenlp in /usr/local/lib/python3.6/dist-packages (3.9.1.1)\n",
            "Requirement already satisfied: psutil in /usr/local/lib/python3.6/dist-packages (from stanfordcorenlp) (5.4.8)\n",
            "Requirement already satisfied: requests in /usr/local/lib/python3.6/dist-packages (from stanfordcorenlp) (2.21.0)\n",
            "Requirement already satisfied: idna<2.9,>=2.5 in /usr/local/lib/python3.6/dist-packages (from requests->stanfordcorenlp) (2.8)\n",
            "Requirement already satisfied: certifi>=2017.4.17 in /usr/local/lib/python3.6/dist-packages (from requests->stanfordcorenlp) (2019.11.28)\n",
            "Requirement already satisfied: urllib3<1.25,>=1.21.1 in /usr/local/lib/python3.6/dist-packages (from requests->stanfordcorenlp) (1.24.3)\n",
            "Requirement already satisfied: chardet<3.1.0,>=3.0.2 in /usr/local/lib/python3.6/dist-packages (from requests->stanfordcorenlp) (3.0.4)\n",
            "--2020-03-29 06:18:15--  http://nlp.stanford.edu/software/stanford-corenlp-full-2018-10-05.zip\n",
            "Resolving nlp.stanford.edu (nlp.stanford.edu)... 171.64.67.140\n",
            "Connecting to nlp.stanford.edu (nlp.stanford.edu)|171.64.67.140|:80... connected.\n",
            "HTTP request sent, awaiting response... 302 Found\n",
            "Location: https://nlp.stanford.edu/software/stanford-corenlp-full-2018-10-05.zip [following]\n",
            "--2020-03-29 06:18:15--  https://nlp.stanford.edu/software/stanford-corenlp-full-2018-10-05.zip\n",
            "Connecting to nlp.stanford.edu (nlp.stanford.edu)|171.64.67.140|:443... connected.\n",
            "HTTP request sent, awaiting response... 200 OK\n",
            "Length: 393239982 (375M) [application/zip]\n",
            "Saving to: ‘stanford-corenlp-full-2018-10-05.zip.1’\n",
            "\n",
            "stanford-corenlp-fu 100%[===================>] 375.02M  96.5MB/s    in 4.7s    \n",
            "\n",
            "2020-03-29 06:18:20 (80.3 MB/s) - ‘stanford-corenlp-full-2018-10-05.zip.1’ saved [393239982/393239982]\n",
            "\n",
            "Archive:  stanford-corenlp-full-2018-10-05.zip\n",
            "replace stanford-corenlp-full-2018-10-05/jaxb-core-2.3.0.1-sources.jar? [y]es, [n]o, [A]ll, [N]one, [r]ename: n\n",
            "replace stanford-corenlp-full-2018-10-05/xom-1.2.10-src.jar? [y]es, [n]o, [A]ll, [N]one, [r]ename: n\n",
            "replace stanford-corenlp-full-2018-10-05/CoreNLP-to-HTML.xsl? [y]es, [n]o, [A]ll, [N]one, [r]ename: n\n",
            "replace stanford-corenlp-full-2018-10-05/README.txt? [y]es, [n]o, [A]ll, [N]one, [r]ename: a\n",
            "error:  invalid response [a]\n",
            "replace stanford-corenlp-full-2018-10-05/README.txt? [y]es, [n]o, [A]ll, [N]one, [r]ename: na\n",
            "replace stanford-corenlp-full-2018-10-05/jollyday-0.4.9-sources.jar? [y]es, [n]o, [A]ll, [N]one, [r]ename: NA\n",
            "Error: Could not find or load main class edu.stanford.nlp.pipeline.StanfordCoreNLPServer\n",
            "Caused by: java.lang.ClassNotFoundException: edu.stanford.nlp.pipeline.StanfordCoreNLPServer\n"
          ],
          "name": "stdout"
        }
      ]
    },
    {
      "cell_type": "code",
      "metadata": {
        "id": "kHQwEBrX0DE-",
        "colab_type": "code",
        "colab": {}
      },
      "source": [
        "from stanfordcorenlp import StanfordCoreNLP\n",
        "import logging\n",
        "path = \"/content/stanford-corenlp-full-2018-10-05\"\n",
        "nlp = StanfordCoreNLP(path, lang='en')"
      ],
      "execution_count": 0,
      "outputs": []
    },
    {
      "cell_type": "code",
      "metadata": {
        "id": "40hKblmK0eE1",
        "colab_type": "code",
        "colab": {}
      },
      "source": [
        "f = open(\"data.txt\")\n",
        "data = f.readlines()"
      ],
      "execution_count": 0,
      "outputs": []
    },
    {
      "cell_type": "code",
      "metadata": {
        "id": "e0W43RhF01jR",
        "colab_type": "code",
        "colab": {
          "base_uri": "https://localhost:8080/",
          "height": 119
        },
        "outputId": "b25adf6b-142a-4f9b-8654-433a90381eaf"
      },
      "source": [
        "import json\n",
        "result = []\n",
        "index = 0\n",
        "for line in data:\n",
        "  if index % 1000 == 0:\n",
        "    print(index)\n",
        "  parse = nlp.parse(line)\n",
        "  json_str = json.dumps(parse)\n",
        "  result.append(json_str + \"\\n\")\n",
        "  index += 1"
      ],
      "execution_count": 7,
      "outputs": [
        {
          "output_type": "stream",
          "text": [
            "0\n",
            "1000\n",
            "2000\n",
            "3000\n",
            "4000\n",
            "5000\n"
          ],
          "name": "stdout"
        }
      ]
    },
    {
      "cell_type": "code",
      "metadata": {
        "id": "3C2rX0U61o10",
        "colab_type": "code",
        "colab": {}
      },
      "source": [
        "f2 = open(\"result.txt\", \"w\")\n",
        "f2.writelines(result)"
      ],
      "execution_count": 0,
      "outputs": []
    },
    {
      "cell_type": "code",
      "metadata": {
        "id": "YnGC_oGT4f3k",
        "colab_type": "code",
        "colab": {}
      },
      "source": [
        "f2.close()"
      ],
      "execution_count": 0,
      "outputs": []
    },
    {
      "cell_type": "code",
      "metadata": {
        "id": "hskXZeaN9aRA",
        "colab_type": "code",
        "colab": {}
      },
      "source": [
        ""
      ],
      "execution_count": 0,
      "outputs": []
    }
  ]
}